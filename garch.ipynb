{
 "cells": [
  {
   "cell_type": "code",
   "execution_count": 14,
   "metadata": {},
   "outputs": [],
   "source": [
    "import pandas as pd"
   ]
  },
  {
   "cell_type": "code",
   "execution_count": 2,
   "metadata": {},
   "outputs": [],
   "source": [
    "data=pd.read_csv(\"hist_india_vix_01-Sep-2019_08-Apr-2020.csv\")"
   ]
  },
  {
   "cell_type": "code",
   "execution_count": 15,
   "metadata": {},
   "outputs": [
    {
     "data": {
      "text/html": [
       "<div>\n",
       "<style scoped>\n",
       "    .dataframe tbody tr th:only-of-type {\n",
       "        vertical-align: middle;\n",
       "    }\n",
       "\n",
       "    .dataframe tbody tr th {\n",
       "        vertical-align: top;\n",
       "    }\n",
       "\n",
       "    .dataframe thead th {\n",
       "        text-align: right;\n",
       "    }\n",
       "</style>\n",
       "<table border=\"1\" class=\"dataframe\">\n",
       "  <thead>\n",
       "    <tr style=\"text-align: right;\">\n",
       "      <th></th>\n",
       "      <th>Date</th>\n",
       "      <th>Open</th>\n",
       "      <th>High</th>\n",
       "      <th>Low</th>\n",
       "      <th>Close</th>\n",
       "      <th>Prev. Close</th>\n",
       "      <th>Change</th>\n",
       "      <th>% Change</th>\n",
       "    </tr>\n",
       "  </thead>\n",
       "  <tbody>\n",
       "    <tr>\n",
       "      <th>0</th>\n",
       "      <td>03-Sep-2019</td>\n",
       "      <td>16.2825</td>\n",
       "      <td>18.2700</td>\n",
       "      <td>16.2825</td>\n",
       "      <td>18.0550</td>\n",
       "      <td>16.2825</td>\n",
       "      <td>1.77</td>\n",
       "      <td>10.89</td>\n",
       "    </tr>\n",
       "    <tr>\n",
       "      <th>1</th>\n",
       "      <td>04-Sep-2019</td>\n",
       "      <td>18.0550</td>\n",
       "      <td>18.3100</td>\n",
       "      <td>17.1275</td>\n",
       "      <td>17.2350</td>\n",
       "      <td>18.0550</td>\n",
       "      <td>-0.82</td>\n",
       "      <td>-4.54</td>\n",
       "    </tr>\n",
       "    <tr>\n",
       "      <th>2</th>\n",
       "      <td>05-Sep-2019</td>\n",
       "      <td>17.2350</td>\n",
       "      <td>17.7025</td>\n",
       "      <td>16.0575</td>\n",
       "      <td>17.2725</td>\n",
       "      <td>17.2350</td>\n",
       "      <td>0.04</td>\n",
       "      <td>0.22</td>\n",
       "    </tr>\n",
       "    <tr>\n",
       "      <th>3</th>\n",
       "      <td>06-Sep-2019</td>\n",
       "      <td>17.2725</td>\n",
       "      <td>17.2725</td>\n",
       "      <td>15.8850</td>\n",
       "      <td>16.2750</td>\n",
       "      <td>17.2725</td>\n",
       "      <td>-1.00</td>\n",
       "      <td>-5.78</td>\n",
       "    </tr>\n",
       "    <tr>\n",
       "      <th>4</th>\n",
       "      <td>09-Sep-2019</td>\n",
       "      <td>16.2750</td>\n",
       "      <td>16.6425</td>\n",
       "      <td>13.6650</td>\n",
       "      <td>15.8525</td>\n",
       "      <td>16.2750</td>\n",
       "      <td>-0.42</td>\n",
       "      <td>-2.60</td>\n",
       "    </tr>\n",
       "  </tbody>\n",
       "</table>\n",
       "</div>"
      ],
      "text/plain": [
       "         Date     Open     High      Low    Close   Prev. Close   Change   \\\n",
       "0  03-Sep-2019  16.2825  18.2700  16.2825  18.0550       16.2825     1.77   \n",
       "1  04-Sep-2019  18.0550  18.3100  17.1275  17.2350       18.0550    -0.82   \n",
       "2  05-Sep-2019  17.2350  17.7025  16.0575  17.2725       17.2350     0.04   \n",
       "3  06-Sep-2019  17.2725  17.2725  15.8850  16.2750       17.2725    -1.00   \n",
       "4  09-Sep-2019  16.2750  16.6425  13.6650  15.8525       16.2750    -0.42   \n",
       "\n",
       "   % Change  \n",
       "0     10.89  \n",
       "1     -4.54  \n",
       "2      0.22  \n",
       "3     -5.78  \n",
       "4     -2.60  "
      ]
     },
     "execution_count": 15,
     "metadata": {},
     "output_type": "execute_result"
    }
   ],
   "source": [
    "data.head()"
   ]
  },
  {
   "cell_type": "code",
   "execution_count": 19,
   "metadata": {},
   "outputs": [],
   "source": [
    "from matplotlib import pyplot"
   ]
  },
  {
   "cell_type": "code",
   "execution_count": 22,
   "metadata": {},
   "outputs": [
    {
     "data": {
      "text/plain": [
       "148"
      ]
     },
     "execution_count": 22,
     "metadata": {},
     "output_type": "execute_result"
    }
   ],
   "source": [
    "len(data)"
   ]
  },
  {
   "cell_type": "code",
   "execution_count": 26,
   "metadata": {},
   "outputs": [
    {
     "data": {
      "text/plain": [
       "Index(['Date ', 'Open ', 'High ', 'Low ', 'Close ', 'Prev. Close ', 'Change ',\n",
       "       '% Change'],\n",
       "      dtype='object')"
      ]
     },
     "execution_count": 26,
     "metadata": {},
     "output_type": "execute_result"
    }
   ],
   "source": [
    "data.columns"
   ]
  },
  {
   "cell_type": "code",
   "execution_count": 42,
   "metadata": {},
   "outputs": [],
   "source": [
    "data=pd.DataFrame(data)"
   ]
  },
  {
   "cell_type": "code",
   "execution_count": 49,
   "metadata": {},
   "outputs": [
    {
     "data": {
      "text/plain": [
       "pandas.core.frame.DataFrame"
      ]
     },
     "execution_count": 49,
     "metadata": {},
     "output_type": "execute_result"
    }
   ],
   "source": [
    "type(data)"
   ]
  },
  {
   "cell_type": "code",
   "execution_count": 59,
   "metadata": {},
   "outputs": [],
   "source": [
    "data['mean']=(data['High ']+data['Low '])/2"
   ]
  },
  {
   "cell_type": "code",
   "execution_count": 60,
   "metadata": {},
   "outputs": [
    {
     "data": {
      "text/plain": [
       "0      17.27625\n",
       "1      17.71875\n",
       "2      16.88000\n",
       "3      16.57875\n",
       "4      15.15375\n",
       "5      15.25000\n",
       "6      14.99000\n",
       "7      14.54125\n",
       "8      14.71250\n",
       "9      14.79250\n",
       "10     15.04625\n",
       "11     15.07125\n",
       "12     15.43625\n",
       "13     15.92500\n",
       "14     17.21500\n",
       "15     15.75875\n",
       "16     15.32500\n",
       "17     16.37250\n",
       "18     16.15500\n",
       "19     16.58250\n",
       "20     17.23125\n",
       "21     17.14625\n",
       "22     17.71000\n",
       "23     17.33125\n",
       "24     16.63375\n",
       "25     17.02875\n",
       "26     17.51250\n",
       "27     17.06125\n",
       "28     16.22375\n",
       "29     15.93875\n",
       "         ...   \n",
       "118    14.83500\n",
       "119    16.46875\n",
       "120    17.68375\n",
       "121    17.99125\n",
       "122    20.59000\n",
       "123    23.13125\n",
       "124    24.01625\n",
       "125    24.35625\n",
       "126    23.17500\n",
       "127    25.39875\n",
       "128    27.89000\n",
       "129    31.44375\n",
       "130    36.06875\n",
       "131    50.32250\n",
       "132    55.66875\n",
       "133    60.34500\n",
       "134    62.86500\n",
       "135    68.21875\n",
       "136    69.17250\n",
       "137    69.84250\n",
       "138    79.31000\n",
       "139    80.28500\n",
       "140    75.04000\n",
       "141    69.33125\n",
       "142    71.82250\n",
       "143    67.74875\n",
       "144    62.09375\n",
       "145    57.74500\n",
       "146    52.62250\n",
       "147    50.35375\n",
       "Name: mean, Length: 148, dtype: float64"
      ]
     },
     "execution_count": 60,
     "metadata": {},
     "output_type": "execute_result"
    }
   ],
   "source": [
    "data['mean']"
   ]
  },
  {
   "cell_type": "code",
   "execution_count": 61,
   "metadata": {},
   "outputs": [
    {
     "data": {
      "text/plain": [
       "[<matplotlib.lines.Line2D at 0x28b72a24470>]"
      ]
     },
     "execution_count": 61,
     "metadata": {},
     "output_type": "execute_result"
    },
    {
     "data": {
      "image/png": "[encoded data removed]",
      "text/plain": [
       "<Figure size 432x288 with 1 Axes>"
      ]
     },
     "metadata": {
      "needs_background": "light"
     },
     "output_type": "display_data"
    }
   ],
   "source": [
    "pyplot.plot(data['mean'])"
   ]
  },
  {
   "cell_type": "code",
   "execution_count": 63,
   "metadata": {},
   "outputs": [
    {
     "data": {
      "text/plain": [
       "[<matplotlib.lines.Line2D at 0x28b733b1898>]"
      ]
     },
     "execution_count": 63,
     "metadata": {},
     "output_type": "execute_result"
    },
    {
     "data": {
      "image/png": "[encoded data removed]",
      "text/plain": [
       "<Figure size 432x288 with 1 Axes>"
      ]
     },
     "metadata": {
      "needs_background": "light"
     },
     "output_type": "display_data"
    }
   ],
   "source": [
    "pyplot.plot(data['% Change'])"
   ]
  },
  {
   "cell_type": "code",
   "execution_count": 66,
   "metadata": {},
   "outputs": [
    {
     "data": {
      "image/png": "[encoded data removed]",
      "text/plain": [
       "<Figure size 432x288 with 1 Axes>"
      ]
     },
     "execution_count": 66,
     "metadata": {},
     "output_type": "execute_result"
    },
    {
     "data": {
      "image/png": "[encoded data removed]",
      "text/plain": [
       "<Figure size 432x288 with 1 Axes>"
      ]
     },
     "metadata": {
      "needs_background": "light"
     },
     "output_type": "display_data"
    }
   ],
   "source": [
    "plot_acf(data['% Change'])"
   ]
  },
  {
   "cell_type": "code",
   "execution_count": 65,
   "metadata": {},
   "outputs": [],
   "source": [
    "from statsmodels.graphics.tsaplots import plot_acf"
   ]
  },
  {
   "cell_type": "code",
   "execution_count": 72,
   "metadata": {},
   "outputs": [],
   "source": [
    "from arch import arch_model "
   ]
  },
  {
   "cell_type": "code",
   "execution_count": 73,
   "metadata": {},
   "outputs": [],
   "source": [
    "model = arch_model(data['% Change'], mean='Zero', vol='GARCH', p=15, q=15)"
   ]
  },
  {
   "cell_type": "code",
   "execution_count": 74,
   "metadata": {},
   "outputs": [
    {
     "name": "stdout",
     "output_type": "stream",
     "text": [
      "Iteration:      1,   Func. Count:     33,   Neg. LLF: 482.80805244282345\n",
      "Iteration:      2,   Func. Count:     67,   Neg. LLF: 470.8005434963335\n",
      "Iteration:      3,   Func. Count:    102,   Neg. LLF: 467.98916839157744\n",
      "Iteration:      4,   Func. Count:    136,   Neg. LLF: 467.17875119779194\n",
      "Iteration:      5,   Func. Count:    170,   Neg. LLF: 464.9754285931\n",
      "Iteration:      6,   Func. Count:    204,   Neg. LLF: 463.1879012552212\n",
      "Iteration:      7,   Func. Count:    238,   Neg. LLF: 462.76179708231496\n",
      "Iteration:      8,   Func. Count:    272,   Neg. LLF: 462.40161760097664\n",
      "Iteration:      9,   Func. Count:    306,   Neg. LLF: 461.9414214997565\n",
      "Iteration:     10,   Func. Count:    340,   Neg. LLF: 461.5028215172256\n",
      "Iteration:     11,   Func. Count:    374,   Neg. LLF: 461.0602246470985\n",
      "Iteration:     12,   Func. Count:    408,   Neg. LLF: 460.86638273815333\n",
      "Iteration:     13,   Func. Count:    442,   Neg. LLF: 460.73235933086437\n",
      "Iteration:     14,   Func. Count:    476,   Neg. LLF: 460.5333550545622\n",
      "Iteration:     15,   Func. Count:    510,   Neg. LLF: 460.3373890232626\n",
      "Iteration:     16,   Func. Count:    544,   Neg. LLF: 460.2818053829965\n",
      "Iteration:     17,   Func. Count:    578,   Neg. LLF: 460.14427700417633\n",
      "Iteration:     18,   Func. Count:    612,   Neg. LLF: 460.0752965153396\n",
      "Iteration:     19,   Func. Count:    646,   Neg. LLF: 460.0298430703343\n",
      "Iteration:     20,   Func. Count:    679,   Neg. LLF: 459.96376498021584\n",
      "Iteration:     21,   Func. Count:    712,   Neg. LLF: 459.9330399999165\n",
      "Iteration:     22,   Func. Count:    745,   Neg. LLF: 459.9286708723778\n",
      "Iteration:     23,   Func. Count:    778,   Neg. LLF: 459.92538831605106\n",
      "Iteration:     24,   Func. Count:    811,   Neg. LLF: 459.9252703943736\n",
      "Iteration:     25,   Func. Count:    844,   Neg. LLF: 459.9252623318399\n",
      "Optimization terminated successfully.    (Exit mode 0)\n",
      "            Current function value: 459.92526189718177\n",
      "            Iterations: 25\n",
      "            Function evaluations: 845\n",
      "            Gradient evaluations: 25\n"
     ]
    }
   ],
   "source": [
    "model_fit = model.fit()"
   ]
  },
  {
   "cell_type": "code",
   "execution_count": null,
   "metadata": {},
   "outputs": [],
   "source": []
  }
 ],
 "metadata": {
  "kernelspec": {
   "display_name": "Python 3",
   "language": "python",
   "name": "python3"
  },
  "language_info": {
   "codemirror_mode": {
    "name": "ipython",
    "version": 3
   },
   "file_extension": ".py",
   "mimetype": "text/x-python",
   "name": "python",
   "nbconvert_exporter": "python",
   "pygments_lexer": "ipython3",
   "version": "3.6.7"
  }
 },
 "nbformat": 4,
 "nbformat_minor": 2
}
